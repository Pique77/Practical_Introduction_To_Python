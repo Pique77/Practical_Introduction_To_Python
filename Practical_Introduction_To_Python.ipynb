{
 "cells": [
  {
   "cell_type": "markdown",
   "metadata": {},
   "source": [
    "# Chapter 1\n",
    "## Exercise 1.8"
   ]
  },
  {
   "cell_type": "code",
   "execution_count": 1,
   "metadata": {},
   "outputs": [
    {
     "name": "stdout",
     "output_type": "stream",
     "text": [
      "********************\n",
      "********************\n",
      "********************\n",
      "********************\n"
     ]
    }
   ],
   "source": [
    "print(\"********************\\n********************\\n********************\\n********************\")"
   ]
  },
  {
   "cell_type": "code",
   "execution_count": 2,
   "metadata": {},
   "outputs": [
    {
     "name": "stdout",
     "output_type": "stream",
     "text": [
      "*********************\n",
      "*                   *\n",
      "*                   *\n",
      "*********************\n"
     ]
    }
   ],
   "source": [
    " print(\"*********************\\n*                   *\\n*                   *\\n*********************\")"
   ]
  },
  {
   "cell_type": "code",
   "execution_count": 3,
   "metadata": {},
   "outputs": [
    {
     "name": "stdout",
     "output_type": "stream",
     "text": [
      "*\n",
      "**\n",
      "***\n",
      "****\n"
     ]
    }
   ],
   "source": [
    "print(\"*\\n**\\n***\\n****\")"
   ]
  },
  {
   "cell_type": "code",
   "execution_count": 4,
   "metadata": {},
   "outputs": [
    {
     "name": "stdout",
     "output_type": "stream",
     "text": [
      "4.382621951219512\n"
     ]
    }
   ],
   "source": [
    "print((512-282)/(47.48+5))"
   ]
  },
  {
   "cell_type": "code",
   "execution_count": 13,
   "metadata": {},
   "outputs": [
    {
     "ename": "KeyboardInterrupt",
     "evalue": "Interrupted by user",
     "output_type": "error",
     "traceback": [
      "\u001b[1;31m---------------------------------------------------------------------------\u001b[0m",
      "\u001b[1;31mKeyboardInterrupt\u001b[0m                         Traceback (most recent call last)",
      "\u001b[1;32mc:\\Users\\Paakow\\Desktop\\Programming Projects\\9) A_Practical_Introduction_to_Python_Programme\\Practical_Introduction_To_Python.ipynb Cell 6\u001b[0m line \u001b[0;36m2\n\u001b[0;32m      <a href='vscode-notebook-cell:/c%3A/Users/Paakow/Desktop/Programming%20Projects/9%29%20A_Practical_Introduction_to_Python_Programme/Practical_Introduction_To_Python.ipynb#W5sZmlsZQ%3D%3D?line=0'>1</a>\u001b[0m \u001b[39m# <eval> is used because the input will be a number and not a text\u001b[39;00m\n\u001b[1;32m----> <a href='vscode-notebook-cell:/c%3A/Users/Paakow/Desktop/Programming%20Projects/9%29%20A_Practical_Introduction_to_Python_Programme/Practical_Introduction_To_Python.ipynb#W5sZmlsZQ%3D%3D?line=1'>2</a>\u001b[0m x \u001b[39m=\u001b[39m \u001b[39meval\u001b[39m(\u001b[39minput\u001b[39;49m(\u001b[39m'\u001b[39;49m\u001b[39mEnter a number:\u001b[39;49m\u001b[39m'\u001b[39;49m))\n\u001b[0;32m      <a href='vscode-notebook-cell:/c%3A/Users/Paakow/Desktop/Programming%20Projects/9%29%20A_Practical_Introduction_to_Python_Programme/Practical_Introduction_To_Python.ipynb#W5sZmlsZQ%3D%3D?line=2'>3</a>\u001b[0m \u001b[39mprint\u001b[39m(\u001b[39m'\u001b[39m\u001b[39mThe square of x is\u001b[39m\u001b[39m'\u001b[39m, \u001b[39m'\u001b[39m\u001b[39m \u001b[39m\u001b[39m'\u001b[39m, x\u001b[39m*\u001b[39m\u001b[39m*\u001b[39m\u001b[39m2\u001b[39m, \u001b[39m'\u001b[39m\u001b[39m.\u001b[39m\u001b[39m'\u001b[39m, sep \u001b[39m=\u001b[39m\u001b[39m'\u001b[39m\u001b[39m'\u001b[39m )\n\u001b[0;32m      <a href='vscode-notebook-cell:/c%3A/Users/Paakow/Desktop/Programming%20Projects/9%29%20A_Practical_Introduction_to_Python_Programme/Practical_Introduction_To_Python.ipynb#W5sZmlsZQ%3D%3D?line=4'>5</a>\u001b[0m \u001b[39m# Another alternative which will print the value of x\u001b[39;00m\n",
      "File \u001b[1;32mc:\\Users\\Paakow\\anaconda3\\envs\\notebook\\lib\\site-packages\\ipykernel\\kernelbase.py:1177\u001b[0m, in \u001b[0;36mKernel.raw_input\u001b[1;34m(self, prompt)\u001b[0m\n\u001b[0;32m   1173\u001b[0m \u001b[39mif\u001b[39;00m \u001b[39mnot\u001b[39;00m \u001b[39mself\u001b[39m\u001b[39m.\u001b[39m_allow_stdin:\n\u001b[0;32m   1174\u001b[0m     \u001b[39mraise\u001b[39;00m StdinNotImplementedError(\n\u001b[0;32m   1175\u001b[0m         \u001b[39m\"\u001b[39m\u001b[39mraw_input was called, but this frontend does not support input requests.\u001b[39m\u001b[39m\"\u001b[39m\n\u001b[0;32m   1176\u001b[0m     )\n\u001b[1;32m-> 1177\u001b[0m \u001b[39mreturn\u001b[39;00m \u001b[39mself\u001b[39;49m\u001b[39m.\u001b[39;49m_input_request(\n\u001b[0;32m   1178\u001b[0m     \u001b[39mstr\u001b[39;49m(prompt),\n\u001b[0;32m   1179\u001b[0m     \u001b[39mself\u001b[39;49m\u001b[39m.\u001b[39;49m_parent_ident[\u001b[39m\"\u001b[39;49m\u001b[39mshell\u001b[39;49m\u001b[39m\"\u001b[39;49m],\n\u001b[0;32m   1180\u001b[0m     \u001b[39mself\u001b[39;49m\u001b[39m.\u001b[39;49mget_parent(\u001b[39m\"\u001b[39;49m\u001b[39mshell\u001b[39;49m\u001b[39m\"\u001b[39;49m),\n\u001b[0;32m   1181\u001b[0m     password\u001b[39m=\u001b[39;49m\u001b[39mFalse\u001b[39;49;00m,\n\u001b[0;32m   1182\u001b[0m )\n",
      "File \u001b[1;32mc:\\Users\\Paakow\\anaconda3\\envs\\notebook\\lib\\site-packages\\ipykernel\\kernelbase.py:1219\u001b[0m, in \u001b[0;36mKernel._input_request\u001b[1;34m(self, prompt, ident, parent, password)\u001b[0m\n\u001b[0;32m   1216\u001b[0m             \u001b[39mbreak\u001b[39;00m\n\u001b[0;32m   1217\u001b[0m \u001b[39mexcept\u001b[39;00m \u001b[39mKeyboardInterrupt\u001b[39;00m:\n\u001b[0;32m   1218\u001b[0m     \u001b[39m# re-raise KeyboardInterrupt, to truncate traceback\u001b[39;00m\n\u001b[1;32m-> 1219\u001b[0m     \u001b[39mraise\u001b[39;00m \u001b[39mKeyboardInterrupt\u001b[39;00m(\u001b[39m\"\u001b[39m\u001b[39mInterrupted by user\u001b[39m\u001b[39m\"\u001b[39m) \u001b[39mfrom\u001b[39;00m \u001b[39mNone\u001b[39m\n\u001b[0;32m   1220\u001b[0m \u001b[39mexcept\u001b[39;00m \u001b[39mException\u001b[39;00m:\n\u001b[0;32m   1221\u001b[0m     \u001b[39mself\u001b[39m\u001b[39m.\u001b[39mlog\u001b[39m.\u001b[39mwarning(\u001b[39m\"\u001b[39m\u001b[39mInvalid Message:\u001b[39m\u001b[39m\"\u001b[39m, exc_info\u001b[39m=\u001b[39m\u001b[39mTrue\u001b[39;00m)\n",
      "\u001b[1;31mKeyboardInterrupt\u001b[0m: Interrupted by user"
     ]
    }
   ],
   "source": [
    "# <eval> is used because the input will be a number and not a text\n",
    "x = eval(input('Enter a number:'))\n",
    "print('The square of x is', ' ', x**2, '.', sep ='' )\n",
    "\n",
    "# Another alternative which will print the value of x\n",
    "x\n",
    "print(f'The square of {x} is',' ', x**2, '.', sep ='')"
   ]
  },
  {
   "cell_type": "code",
   "execution_count": null,
   "metadata": {},
   "outputs": [
    {
     "name": "stdout",
     "output_type": "stream",
     "text": [
      "name      game      boy\n"
     ]
    }
   ],
   "source": [
    "print('name','game', 'boy', sep = '      ')"
   ]
  },
  {
   "cell_type": "code",
   "execution_count": 25,
   "metadata": {},
   "outputs": [
    {
     "name": "stdout",
     "output_type": "stream",
     "text": [
      "6---12---18---24---30\n"
     ]
    }
   ],
   "source": [
    "y = eval(input('Enter a number:'))\n",
    "print(y, end='---' )\n",
    "print(2*y, end='---' )\n",
    "print(3*y, end='---' )\n",
    "print(4*y, end='---' )\n",
    "print(5*y)"
   ]
  },
  {
   "cell_type": "code",
   "execution_count": 2,
   "metadata": {},
   "outputs": [
    {
     "name": "stdout",
     "output_type": "stream",
     "text": [
      "Your weight in pounds is 110\n"
     ]
    }
   ],
   "source": [
    "w = eval(input('Enter your weight in kilograms:'))\n",
    "print('Your weight in pounds is', w*22, sep = ' ')"
   ]
  },
  {
   "cell_type": "code",
   "execution_count": 7,
   "metadata": {},
   "outputs": [
    {
     "name": "stdout",
     "output_type": "stream",
     "text": [
      "Total = 6\n",
      "Average = 2.0\n"
     ]
    }
   ],
   "source": [
    "a = eval(input('Enter the first number:'))\n",
    "b = eval(input('Enter the second number:'))\n",
    "c = eval(input('Enter the third number:'))\n",
    "total = a + b + c\n",
    "average = total / 3\n",
    "print('Total =',\" \", total, sep='')\n",
    "print('Average =', average)"
   ]
  },
  {
   "cell_type": "code",
   "execution_count": 8,
   "metadata": {},
   "outputs": [
    {
     "name": "stdout",
     "output_type": "stream",
     "text": [
      "tip =2\n",
      "total tip = 5\n"
     ]
    }
   ],
   "source": [
    "tip = eval(input('Please enter the price of your meal'))\n",
    "tip_perc = eval(input('Please enter the percent tip:'))\n",
    "print('tip =',tip, sep ='' )\n",
    "print('total tip =',tip + tip_perc)\n"
   ]
  },
  {
   "cell_type": "markdown",
   "metadata": {},
   "source": [
    "# Chapter 2\n",
    "## Exercise 2.5"
   ]
  },
  {
   "cell_type": "code",
   "execution_count": 4,
   "metadata": {},
   "outputs": [
    {
     "name": "stdout",
     "output_type": "stream",
     "text": [
      "Richard Sackey\n",
      "Richard Sackey\n",
      "Richard Sackey\n",
      "Richard Sackey\n",
      "Richard Sackey\n",
      "Richard Sackey\n",
      "Richard Sackey\n",
      "Richard Sackey\n",
      "Richard Sackey\n",
      "Richard Sackey\n",
      "Richard Sackey\n",
      "Richard Sackey\n",
      "Richard Sackey\n",
      "Richard Sackey\n",
      "Richard Sackey\n",
      "Richard Sackey\n",
      "Richard Sackey\n",
      "Richard Sackey\n",
      "Richard Sackey\n",
      "Richard Sackey\n",
      "Richard Sackey\n",
      "Richard Sackey\n",
      "Richard Sackey\n",
      "Richard Sackey\n",
      "Richard Sackey\n",
      "Richard Sackey\n",
      "Richard Sackey\n",
      "Richard Sackey\n",
      "Richard Sackey\n",
      "Richard Sackey\n",
      "Richard Sackey\n",
      "Richard Sackey\n",
      "Richard Sackey\n",
      "Richard Sackey\n",
      "Richard Sackey\n",
      "Richard Sackey\n",
      "Richard Sackey\n",
      "Richard Sackey\n",
      "Richard Sackey\n",
      "Richard Sackey\n",
      "Richard Sackey\n",
      "Richard Sackey\n",
      "Richard Sackey\n",
      "Richard Sackey\n",
      "Richard Sackey\n",
      "Richard Sackey\n",
      "Richard Sackey\n",
      "Richard Sackey\n",
      "Richard Sackey\n",
      "Richard Sackey\n",
      "Richard Sackey\n",
      "Richard Sackey\n",
      "Richard Sackey\n",
      "Richard Sackey\n",
      "Richard Sackey\n",
      "Richard Sackey\n",
      "Richard Sackey\n",
      "Richard Sackey\n",
      "Richard Sackey\n",
      "Richard Sackey\n",
      "Richard Sackey\n",
      "Richard Sackey\n",
      "Richard Sackey\n",
      "Richard Sackey\n",
      "Richard Sackey\n",
      "Richard Sackey\n",
      "Richard Sackey\n",
      "Richard Sackey\n",
      "Richard Sackey\n",
      "Richard Sackey\n",
      "Richard Sackey\n",
      "Richard Sackey\n",
      "Richard Sackey\n",
      "Richard Sackey\n",
      "Richard Sackey\n",
      "Richard Sackey\n",
      "Richard Sackey\n",
      "Richard Sackey\n",
      "Richard Sackey\n",
      "Richard Sackey\n",
      "Richard Sackey\n",
      "Richard Sackey\n",
      "Richard Sackey\n",
      "Richard Sackey\n",
      "Richard Sackey\n",
      "Richard Sackey\n",
      "Richard Sackey\n",
      "Richard Sackey\n",
      "Richard Sackey\n",
      "Richard Sackey\n",
      "Richard Sackey\n",
      "Richard Sackey\n",
      "Richard Sackey\n",
      "Richard Sackey\n",
      "Richard Sackey\n",
      "Richard Sackey\n",
      "Richard Sackey\n",
      "Richard Sackey\n",
      "Richard Sackey\n",
      "Richard Sackey\n",
      " \n",
      "Richard Sackey---Richard Sackey---Richard Sackey---Richard Sackey---Richard Sackey---Richard Sackey---Richard Sackey---Richard Sackey---Richard Sackey---Richard Sackey---Richard Sackey---Richard Sackey---Richard Sackey---Richard Sackey---Richard Sackey---Richard Sackey---Richard Sackey---Richard Sackey---Richard Sackey---Richard Sackey---Richard Sackey---Richard Sackey---Richard Sackey---Richard Sackey---Richard Sackey---Richard Sackey---Richard Sackey---Richard Sackey---Richard Sackey---Richard Sackey---Richard Sackey---Richard Sackey---Richard Sackey---Richard Sackey---Richard Sackey---Richard Sackey---Richard Sackey---Richard Sackey---Richard Sackey---Richard Sackey---Richard Sackey---Richard Sackey---Richard Sackey---Richard Sackey---Richard Sackey---Richard Sackey---Richard Sackey---Richard Sackey---Richard Sackey---Richard Sackey---Richard Sackey---Richard Sackey---Richard Sackey---Richard Sackey---Richard Sackey---Richard Sackey---Richard Sackey---Richard Sackey---Richard Sackey---Richard Sackey---Richard Sackey---Richard Sackey---Richard Sackey---Richard Sackey---Richard Sackey---Richard Sackey---Richard Sackey---Richard Sackey---Richard Sackey---Richard Sackey---Richard Sackey---Richard Sackey---Richard Sackey---Richard Sackey---Richard Sackey---Richard Sackey---Richard Sackey---Richard Sackey---Richard Sackey---Richard Sackey---Richard Sackey---Richard Sackey---Richard Sackey---Richard Sackey---Richard Sackey---Richard Sackey---Richard Sackey---Richard Sackey---Richard Sackey---Richard Sackey---Richard Sackey---Richard Sackey---Richard Sackey---Richard Sackey---Richard Sackey---Richard Sackey---Richard Sackey---Richard Sackey---Richard Sackey---Richard Sackey---"
     ]
    }
   ],
   "source": [
    "for i in range(100):\n",
    "    print(\"Richard Sackey\")\n",
    "print(\" \")\n",
    "for i in range(100):\n",
    "    print(\"Richard Sackey\", end= \"---\")\n"
   ]
  },
  {
   "cell_type": "code",
   "execution_count": 11,
   "metadata": {},
   "outputs": [
    {
     "name": "stdout",
     "output_type": "stream",
     "text": [
      "Richard Sackey--Richard Sackey--Richard Sackey--Richard Sackey\n",
      "Richard Sackey--Richard Sackey--Richard Sackey--Richard Sackey\n",
      "Richard Sackey--Richard Sackey--Richard Sackey--Richard Sackey\n",
      "Richard Sackey--Richard Sackey--Richard Sackey--Richard Sackey\n",
      "Richard Sackey--Richard Sackey--Richard Sackey--Richard Sackey\n",
      "Richard Sackey--Richard Sackey--Richard Sackey--Richard Sackey\n",
      "Richard Sackey--Richard Sackey--Richard Sackey--Richard Sackey\n",
      "Richard Sackey--Richard Sackey--Richard Sackey--Richard Sackey\n",
      "Richard Sackey--Richard Sackey--Richard Sackey--Richard Sackey\n",
      "Richard Sackey--Richard Sackey--Richard Sackey--Richard Sackey\n",
      "Richard Sackey--Richard Sackey--Richard Sackey--Richard Sackey\n",
      "Richard Sackey--Richard Sackey--Richard Sackey--Richard Sackey\n",
      "Richard Sackey--Richard Sackey--Richard Sackey--Richard Sackey\n",
      "Richard Sackey--Richard Sackey--Richard Sackey--Richard Sackey\n",
      "Richard Sackey--Richard Sackey--Richard Sackey--Richard Sackey\n",
      "Richard Sackey--Richard Sackey--Richard Sackey--Richard Sackey\n",
      "Richard Sackey--Richard Sackey--Richard Sackey--Richard Sackey\n",
      "Richard Sackey--Richard Sackey--Richard Sackey--Richard Sackey\n",
      "Richard Sackey--Richard Sackey--Richard Sackey--Richard Sackey\n",
      "Richard Sackey--Richard Sackey--Richard Sackey--Richard Sackey\n"
     ]
    }
   ],
   "source": [
    "for i in range(20):\n",
    "    print(\"Richard Sackey\", end=\"--\")\n",
    "    print(\"Richard Sackey\", end=\"--\")\n",
    "    print(\"Richard Sackey\", end=\"--\")\n",
    "    print(\"Richard Sackey\")\n",
    "\n",
    "    \n",
    "   "
   ]
  },
  {
   "cell_type": "code",
   "execution_count": 12,
   "metadata": {},
   "outputs": [
    {
     "name": "stdout",
     "output_type": "stream",
     "text": [
      "1---1\n",
      "2---4\n",
      "3---9\n",
      "4---16\n",
      "5---25\n",
      "6---36\n",
      "7---49\n",
      "8---64\n",
      "9---81\n",
      "10---100\n",
      "11---121\n",
      "12---144\n",
      "13---169\n",
      "14---196\n",
      "15---225\n",
      "16---256\n",
      "17---289\n",
      "18---324\n",
      "19---361\n",
      "20---400\n"
     ]
    }
   ],
   "source": [
    "for i in range(1,21):\n",
    "    print (i, end=\"---\")\n",
    "    print(i**2)"
   ]
  },
  {
   "cell_type": "code",
   "execution_count": 13,
   "metadata": {},
   "outputs": [
    {
     "name": "stdout",
     "output_type": "stream",
     "text": [
      "8,11,14,17,20,23,26,29,32,35,38,41,44,47,50,53,56,59,62,65,68,71,74,77,80,83,86,89,"
     ]
    }
   ],
   "source": [
    "for i in range(8,90,3):\n",
    "    print(i,end = \",\")"
   ]
  },
  {
   "cell_type": "code",
   "execution_count": 14,
   "metadata": {},
   "outputs": [
    {
     "name": "stdout",
     "output_type": "stream",
     "text": [
      "100,98,96,94,92,90,88,86,84,82,80,78,76,74,72,70,68,66,64,62,60,58,56,54,52,50,48,46,44,42,40,38,36,34,32,30,28,26,24,22,20,18,16,14,12,10,8,6,4,2,"
     ]
    }
   ],
   "source": [
    "for i in range(100,1,-2):\n",
    "    print(i, end=\",\")"
   ]
  },
  {
   "cell_type": "code",
   "execution_count": 16,
   "metadata": {},
   "outputs": [
    {
     "name": "stdout",
     "output_type": "stream",
     "text": [
      "AAAAAAAAAABBBBBBBCDCDCDCDEFFFFFFG\n"
     ]
    }
   ],
   "source": [
    "for i in range(1,11):\n",
    "    print(\"A\", end=\"\")\n",
    "for i in range(1,8):\n",
    "    print(\"B\", end=\"\")\n",
    "for i in range(1,5):\n",
    "    print(\"CD\",end=\"\")\n",
    "for i in range(1,2):\n",
    "    print(\"EFFFFFFG\")"
   ]
  },
  {
   "cell_type": "code",
   "execution_count": 18,
   "metadata": {},
   "outputs": [
    {
     "name": "stdout",
     "output_type": "stream",
     "text": [
      "Pique\n",
      "Pique\n",
      "Pique\n",
      "Pique\n",
      "Pique\n",
      "Pique\n",
      "Pique\n",
      "Pique\n",
      "Pique\n",
      "Pique\n"
     ]
    }
   ],
   "source": [
    "x = input('Please enter your name')\n",
    "y = eval(input(\"How many times do you want to print your name\"))\n",
    "\n",
    "for i in range(y):\n",
    "    print(x)"
   ]
  },
  {
   "cell_type": "code",
   "execution_count": 40,
   "metadata": {},
   "outputs": [
    {
     "ename": "IndentationError",
     "evalue": "expected an indented block after 'for' statement on line 2 (982006248.py, line 3)",
     "output_type": "error",
     "traceback": [
      "\u001b[1;36m  Cell \u001b[1;32mIn [40], line 3\u001b[1;36m\u001b[0m\n\u001b[1;33m    if i==1:\u001b[0m\n\u001b[1;37m    ^\u001b[0m\n\u001b[1;31mIndentationError\u001b[0m\u001b[1;31m:\u001b[0m expected an indented block after 'for' statement on line 2\n"
     ]
    }
   ],
   "source": [
    "x = eval(input(\"How many fibunacci numbers do you want to print\"))\n",
    "for i in range(x+1):\n",
    "    if i==1:\n",
    "    print(1)\n",
    "     if i==2:\n",
    "    print(1,1,end=\"\")"
   ]
  },
  {
   "cell_type": "code",
   "execution_count": 2,
   "metadata": {},
   "outputs": [
    {
     "data": {
      "text/plain": [
       "['__doc__',\n",
       " '__loader__',\n",
       " '__name__',\n",
       " '__package__',\n",
       " '__spec__',\n",
       " 'acos',\n",
       " 'acosh',\n",
       " 'asin',\n",
       " 'asinh',\n",
       " 'atan',\n",
       " 'atan2',\n",
       " 'atanh',\n",
       " 'ceil',\n",
       " 'comb',\n",
       " 'copysign',\n",
       " 'cos',\n",
       " 'cosh',\n",
       " 'degrees',\n",
       " 'dist',\n",
       " 'e',\n",
       " 'erf',\n",
       " 'erfc',\n",
       " 'exp',\n",
       " 'expm1',\n",
       " 'fabs',\n",
       " 'factorial',\n",
       " 'floor',\n",
       " 'fmod',\n",
       " 'frexp',\n",
       " 'fsum',\n",
       " 'gamma',\n",
       " 'gcd',\n",
       " 'hypot',\n",
       " 'inf',\n",
       " 'isclose',\n",
       " 'isfinite',\n",
       " 'isinf',\n",
       " 'isnan',\n",
       " 'isqrt',\n",
       " 'lcm',\n",
       " 'ldexp',\n",
       " 'lgamma',\n",
       " 'log',\n",
       " 'log10',\n",
       " 'log1p',\n",
       " 'log2',\n",
       " 'modf',\n",
       " 'nan',\n",
       " 'nextafter',\n",
       " 'perm',\n",
       " 'pi',\n",
       " 'pow',\n",
       " 'prod',\n",
       " 'radians',\n",
       " 'remainder',\n",
       " 'sin',\n",
       " 'sinh',\n",
       " 'sqrt',\n",
       " 'tan',\n",
       " 'tanh',\n",
       " 'tau',\n",
       " 'trunc',\n",
       " 'ulp']"
      ]
     },
     "execution_count": 2,
     "metadata": {},
     "output_type": "execute_result"
    }
   ],
   "source": [
    "import math\n",
    "dir(math)"
   ]
  },
  {
   "cell_type": "markdown",
   "metadata": {},
   "source": [
    "# Chapter 3\n",
    "## 3.8 Exercises\n",
    "\n"
   ]
  },
  {
   "cell_type": "code",
   "execution_count": 15,
   "metadata": {},
   "outputs": [
    {
     "name": "stdout",
     "output_type": "stream",
     "text": [
      "4, 4, 4, 4, 5, 5, 5, 5, 4, 5, 5, 4, 5, 5, 4, 4, 5, 5, 5, 4, 4, 5, 5, 5, 5, 4, 5, 5, 4, 4, 5, 5, 4, 5, 4, 5, 4, 5, 4, 4, 5, 4, 4, 5, 5, 4, 4, 5, 5, 4, "
     ]
    }
   ],
   "source": [
    "# 1. Write a program that generates and prints 50 random integers, each between 3 and 6.\n",
    "\n",
    "from random import randint\n",
    "for i in range(1,51):\n",
    "    x = randint(4,5)\n",
    "    print(x, end=\", \")\n",
    "\n"
   ]
  },
  {
   "cell_type": "code",
   "execution_count": 20,
   "metadata": {},
   "outputs": [
    {
     "name": "stdout",
     "output_type": "stream",
     "text": [
      "42 3 74088\n"
     ]
    }
   ],
   "source": [
    "# 2. Write a program that generates a random number, x, between 1 and 50, a random number y between 2 and 5, and computes x^y.\n",
    "\n",
    "from random import randint\n",
    "x = randint(2,49)\n",
    "y = randint(3,4) \n",
    "z = x**y\n",
    "print(x,y,z)\n"
   ]
  },
  {
   "cell_type": "code",
   "execution_count": 8,
   "metadata": {},
   "outputs": [
    {
     "name": "stdout",
     "output_type": "stream",
     "text": [
      "ExcellentExcellentExcellentExcellentExcellentExcellentExcellent\n",
      "My name is Excellent\n",
      "My name is Excellent\n",
      "My name is Excellent\n",
      "My name is Excellent\n"
     ]
    }
   ],
   "source": [
    "# 3. Write a program that generates a random number between 1 and 10 and prints your name that many times.\n",
    "\n",
    "from random import randint\n",
    "x = randint(2,10)\n",
    "y = \"Excellent\"\n",
    "z = print(y*x)\n",
    "\n",
    "# Alternative\n",
    "x = randint(2,10)\n",
    "for i in range(2,x+1):   \n",
    "    print(\"My name is Excellent\")\n",
    "\n"
   ]
  },
  {
   "cell_type": "code",
   "execution_count": 55,
   "metadata": {},
   "outputs": [
    {
     "name": "stdout",
     "output_type": "stream",
     "text": [
      "9.36\n"
     ]
    }
   ],
   "source": [
    "# 4. Write a program that generates a random number between 1 and 10 and prints your name that many times.\n",
    "from random import uniform\n",
    "print(round(random.uniform(1,10), 2))"
   ]
  },
  {
   "cell_type": "code",
   "execution_count": 13,
   "metadata": {},
   "outputs": [
    {
     "name": "stdout",
     "output_type": "stream",
     "text": [
      "Help on built-in function sin in module math:\n",
      "\n",
      "sin(x, /)\n",
      "    Return the sine of x (measured in radians).\n",
      "\n"
     ]
    }
   ],
   "source": [
    "import math\n",
    "help(math.sin)"
   ]
  },
  {
   "cell_type": "code",
   "execution_count": 44,
   "metadata": {},
   "outputs": [
    {
     "name": "stdout",
     "output_type": "stream",
     "text": [
      "<built-in method random of Random object at 0x0000019FE1AE6880>\n"
     ]
    }
   ],
   "source": [
    "from random import random\n",
    "x = random\n",
    "print(x)"
   ]
  },
  {
   "cell_type": "code",
   "execution_count": 45,
   "metadata": {},
   "outputs": [
    {
     "name": "stdout",
     "output_type": "stream",
     "text": [
      "Help on method uniform in module random:\n",
      "\n",
      "uniform(a, b) method of random.Random instance\n",
      "    Get a random number in the range [a, b) or [a, b] depending on rounding.\n",
      "\n"
     ]
    }
   ],
   "source": [
    "import random\n"
   ]
  },
  {
   "cell_type": "markdown",
   "metadata": {},
   "source": [
    "# Chapter 4\n",
    "## 4.5 Exercises"
   ]
  },
  {
   "cell_type": "code",
   "execution_count": 58,
   "metadata": {},
   "outputs": [
    {
     "name": "stdout",
     "output_type": "stream",
     "text": [
      "The results is 1.0\n"
     ]
    }
   ],
   "source": [
    "''' Write a program that asks the user to enter a length in centimeters. If the user enters a negative\n",
    " length, the program should tell the user that the entry is invalid. Otherwise, the program\n",
    " should convert the length to inches and print out the result. There are 2.54 centimeters in an\n",
    " inch.'''\n",
    "\n",
    "len_cm = eval(input(\"Please enter a length:\"))\n",
    "if len_cm < 0:\n",
    "   print(\"The entry is invalid\")\n",
    "else:\n",
    "   print(f'The results is {len_cm/2.54}')"
   ]
  }
 ],
 "metadata": {
  "kernelspec": {
   "display_name": "notebook",
   "language": "python",
   "name": "python3"
  },
  "language_info": {
   "codemirror_mode": {
    "name": "ipython",
    "version": 3
   },
   "file_extension": ".py",
   "mimetype": "text/x-python",
   "name": "python",
   "nbconvert_exporter": "python",
   "pygments_lexer": "ipython3",
   "version": "3.10.8"
  },
  "orig_nbformat": 4
 },
 "nbformat": 4,
 "nbformat_minor": 2
}
