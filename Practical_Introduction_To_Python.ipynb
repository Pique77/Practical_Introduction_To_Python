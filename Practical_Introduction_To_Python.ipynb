{
 "cells": [
  {
   "cell_type": "markdown",
   "metadata": {},
   "source": [
    "# Chapter 1\n",
    "## Exercise 1.8"
   ]
  },
  {
   "cell_type": "code",
   "execution_count": 1,
   "metadata": {},
   "outputs": [
    {
     "name": "stdout",
     "output_type": "stream",
     "text": [
      "********************\n",
      "********************\n",
      "********************\n",
      "********************\n"
     ]
    }
   ],
   "source": [
    "print(\"********************\\n********************\\n********************\\n********************\")"
   ]
  },
  {
   "cell_type": "code",
   "execution_count": 2,
   "metadata": {},
   "outputs": [
    {
     "name": "stdout",
     "output_type": "stream",
     "text": [
      "*********************\n",
      "*                   *\n",
      "*                   *\n",
      "*********************\n"
     ]
    }
   ],
   "source": [
    " print(\"*********************\\n*                   *\\n*                   *\\n*********************\")"
   ]
  },
  {
   "cell_type": "code",
   "execution_count": 3,
   "metadata": {},
   "outputs": [
    {
     "name": "stdout",
     "output_type": "stream",
     "text": [
      "*\n",
      "**\n",
      "***\n",
      "****\n"
     ]
    }
   ],
   "source": [
    "print(\"*\\n**\\n***\\n****\")"
   ]
  },
  {
   "cell_type": "code",
   "execution_count": 4,
   "metadata": {},
   "outputs": [
    {
     "name": "stdout",
     "output_type": "stream",
     "text": [
      "4.382621951219512\n"
     ]
    }
   ],
   "source": [
    "print((512-282)/(47.48+5))"
   ]
  },
  {
   "cell_type": "code",
   "execution_count": 5,
   "metadata": {},
   "outputs": [
    {
     "name": "stdout",
     "output_type": "stream",
     "text": [
      "The square of x is 9.\n",
      "The square of 3 is 9.\n"
     ]
    }
   ],
   "source": [
    "# <eval> is used because the input will be a number and not a text\n",
    "x = eval(input('Enter a number:'))\n",
    "print('The square of x is', ' ', x**2, '.', sep ='' )\n",
    "\n",
    "# Another alternative which will print the value of x\n",
    "x\n",
    "print(f'The square of {x} is',' ', x**2, '.', sep ='')"
   ]
  },
  {
   "cell_type": "code",
   "execution_count": 6,
   "metadata": {},
   "outputs": [
    {
     "name": "stdout",
     "output_type": "stream",
     "text": [
      "name      game      boy\n"
     ]
    }
   ],
   "source": [
    "print('name','game', 'boy', sep = '      ')"
   ]
  },
  {
   "cell_type": "code",
   "execution_count": 7,
   "metadata": {},
   "outputs": [
    {
     "name": "stdout",
     "output_type": "stream",
     "text": [
      "4---8---12---16---20\n"
     ]
    }
   ],
   "source": [
    "y = eval(input('Enter a number:'))\n",
    "print(y, end='---' )\n",
    "print(2*y, end='---' )\n",
    "print(3*y, end='---' )\n",
    "print(4*y, end='---' )\n",
    "print(5*y)"
   ]
  },
  {
   "cell_type": "code",
   "execution_count": 8,
   "metadata": {},
   "outputs": [
    {
     "name": "stdout",
     "output_type": "stream",
     "text": [
      "Your weight in pounds is 880\n"
     ]
    }
   ],
   "source": [
    "w = eval(input('Enter your weight in kilograms:'))\n",
    "print('Your weight in pounds is', w*22, sep = ' ')"
   ]
  },
  {
   "cell_type": "code",
   "execution_count": 24,
   "metadata": {},
   "outputs": [
    {
     "name": "stdout",
     "output_type": "stream",
     "text": [
      "Total = 17\n",
      "Average = 5.666666666666667\n"
     ]
    }
   ],
   "source": [
    "a = eval(input('Enter the first number:'))\n",
    "b = eval(input('Enter the second number:'))\n",
    "c = eval(input('Enter the third number:'))\n",
    "total = a + b + c\n",
    "average = total / 3\n",
    "print('Total =',\" \", total, sep='')\n",
    "print('Average =', average)"
   ]
  },
  {
   "cell_type": "code",
   "execution_count": 26,
   "metadata": {},
   "outputs": [
    {
     "name": "stdout",
     "output_type": "stream",
     "text": [
      "tip = 6\n",
      "total tip = 12\n"
     ]
    }
   ],
   "source": [
    "tip = eval(input('Please enter the price of your meal'))\n",
    "tip_perc = eval(input('Please enter the percent tip:'))\n",
    "print('tip =',tip, sep =' ' )\n",
    "print('total tip =',tip + tip_perc)\n"
   ]
  },
  {
   "cell_type": "markdown",
   "metadata": {},
   "source": [
    "# Chapter 2\n",
    "## Exercise 2.5"
   ]
  },
  {
   "cell_type": "code",
   "execution_count": 11,
   "metadata": {},
   "outputs": [
    {
     "name": "stdout",
     "output_type": "stream",
     "text": [
      "Richard Sackey\n",
      "Richard Sackey\n",
      "Richard Sackey\n",
      "Richard Sackey\n",
      "Richard Sackey\n",
      "Richard Sackey\n",
      "Richard Sackey\n",
      "Richard Sackey\n",
      "Richard Sackey\n",
      "Richard Sackey\n",
      "Richard Sackey\n",
      "Richard Sackey\n",
      "Richard Sackey\n",
      "Richard Sackey\n",
      "Richard Sackey\n",
      "Richard Sackey\n",
      "Richard Sackey\n",
      "Richard Sackey\n",
      "Richard Sackey\n",
      "Richard Sackey\n",
      "Richard Sackey\n",
      "Richard Sackey\n",
      "Richard Sackey\n",
      "Richard Sackey\n",
      "Richard Sackey\n",
      "Richard Sackey\n",
      "Richard Sackey\n",
      "Richard Sackey\n",
      "Richard Sackey\n",
      "Richard Sackey\n",
      "Richard Sackey\n",
      "Richard Sackey\n",
      "Richard Sackey\n",
      "Richard Sackey\n",
      "Richard Sackey\n",
      "Richard Sackey\n",
      "Richard Sackey\n",
      "Richard Sackey\n",
      "Richard Sackey\n",
      "Richard Sackey\n",
      "Richard Sackey\n",
      "Richard Sackey\n",
      "Richard Sackey\n",
      "Richard Sackey\n",
      "Richard Sackey\n",
      "Richard Sackey\n",
      "Richard Sackey\n",
      "Richard Sackey\n",
      "Richard Sackey\n",
      "Richard Sackey\n",
      "Richard Sackey\n",
      "Richard Sackey\n",
      "Richard Sackey\n",
      "Richard Sackey\n",
      "Richard Sackey\n",
      "Richard Sackey\n",
      "Richard Sackey\n",
      "Richard Sackey\n",
      "Richard Sackey\n",
      "Richard Sackey\n",
      "Richard Sackey\n",
      "Richard Sackey\n",
      "Richard Sackey\n",
      "Richard Sackey\n",
      "Richard Sackey\n",
      "Richard Sackey\n",
      "Richard Sackey\n",
      "Richard Sackey\n",
      "Richard Sackey\n",
      "Richard Sackey\n",
      "Richard Sackey\n",
      "Richard Sackey\n",
      "Richard Sackey\n",
      "Richard Sackey\n",
      "Richard Sackey\n",
      "Richard Sackey\n",
      "Richard Sackey\n",
      "Richard Sackey\n",
      "Richard Sackey\n",
      "Richard Sackey\n",
      "Richard Sackey\n",
      "Richard Sackey\n",
      "Richard Sackey\n",
      "Richard Sackey\n",
      "Richard Sackey\n",
      "Richard Sackey\n",
      "Richard Sackey\n",
      "Richard Sackey\n",
      "Richard Sackey\n",
      "Richard Sackey\n",
      "Richard Sackey\n",
      "Richard Sackey\n",
      "Richard Sackey\n",
      "Richard Sackey\n",
      "Richard Sackey\n",
      "Richard Sackey\n",
      "Richard Sackey\n",
      "Richard Sackey\n",
      "Richard Sackey\n",
      "Richard Sackey\n",
      " \n",
      "Richard Sackey---Richard Sackey---Richard Sackey---Richard Sackey---Richard Sackey---Richard Sackey---Richard Sackey---Richard Sackey---Richard Sackey---Richard Sackey---Richard Sackey---Richard Sackey---Richard Sackey---Richard Sackey---Richard Sackey---Richard Sackey---Richard Sackey---Richard Sackey---Richard Sackey---Richard Sackey---Richard Sackey---Richard Sackey---Richard Sackey---Richard Sackey---Richard Sackey---Richard Sackey---Richard Sackey---Richard Sackey---Richard Sackey---Richard Sackey---Richard Sackey---Richard Sackey---Richard Sackey---Richard Sackey---Richard Sackey---Richard Sackey---Richard Sackey---Richard Sackey---Richard Sackey---Richard Sackey---Richard Sackey---Richard Sackey---Richard Sackey---Richard Sackey---Richard Sackey---Richard Sackey---Richard Sackey---Richard Sackey---Richard Sackey---Richard Sackey---Richard Sackey---Richard Sackey---Richard Sackey---Richard Sackey---Richard Sackey---Richard Sackey---Richard Sackey---Richard Sackey---Richard Sackey---Richard Sackey---Richard Sackey---Richard Sackey---Richard Sackey---Richard Sackey---Richard Sackey---Richard Sackey---Richard Sackey---Richard Sackey---Richard Sackey---Richard Sackey---Richard Sackey---Richard Sackey---Richard Sackey---Richard Sackey---Richard Sackey---Richard Sackey---Richard Sackey---Richard Sackey---Richard Sackey---Richard Sackey---Richard Sackey---Richard Sackey---Richard Sackey---Richard Sackey---Richard Sackey---Richard Sackey---Richard Sackey---Richard Sackey---Richard Sackey---Richard Sackey---Richard Sackey---Richard Sackey---Richard Sackey---Richard Sackey---Richard Sackey---Richard Sackey---Richard Sackey---Richard Sackey---Richard Sackey---Richard Sackey---"
     ]
    }
   ],
   "source": [
    "# 1. Write a program that prints your name 100 times.\n",
    "\n",
    "\n",
    "for i in range(100):\n",
    "    print(\"Richard Sackey\")\n",
    "print(\" \")\n",
    "for i in range(100):\n",
    "    print(\"Richard Sackey\", end= \"---\")"
   ]
  },
  {
   "cell_type": "code",
   "execution_count": 12,
   "metadata": {},
   "outputs": [
    {
     "name": "stdout",
     "output_type": "stream",
     "text": [
      "Richard Sackey--Richard Sackey--Richard Sackey--Richard Sackey\n",
      "Richard Sackey--Richard Sackey--Richard Sackey--Richard Sackey\n",
      "Richard Sackey--Richard Sackey--Richard Sackey--Richard Sackey\n",
      "Richard Sackey--Richard Sackey--Richard Sackey--Richard Sackey\n",
      "Richard Sackey--Richard Sackey--Richard Sackey--Richard Sackey\n",
      "Richard Sackey--Richard Sackey--Richard Sackey--Richard Sackey\n",
      "Richard Sackey--Richard Sackey--Richard Sackey--Richard Sackey\n",
      "Richard Sackey--Richard Sackey--Richard Sackey--Richard Sackey\n",
      "Richard Sackey--Richard Sackey--Richard Sackey--Richard Sackey\n",
      "Richard Sackey--Richard Sackey--Richard Sackey--Richard Sackey\n",
      "Richard Sackey--Richard Sackey--Richard Sackey--Richard Sackey\n",
      "Richard Sackey--Richard Sackey--Richard Sackey--Richard Sackey\n",
      "Richard Sackey--Richard Sackey--Richard Sackey--Richard Sackey\n",
      "Richard Sackey--Richard Sackey--Richard Sackey--Richard Sackey\n",
      "Richard Sackey--Richard Sackey--Richard Sackey--Richard Sackey\n",
      "Richard Sackey--Richard Sackey--Richard Sackey--Richard Sackey\n",
      "Richard Sackey--Richard Sackey--Richard Sackey--Richard Sackey\n",
      "Richard Sackey--Richard Sackey--Richard Sackey--Richard Sackey\n",
      "Richard Sackey--Richard Sackey--Richard Sackey--Richard Sackey\n",
      "Richard Sackey--Richard Sackey--Richard Sackey--Richard Sackey\n"
     ]
    }
   ],
   "source": [
    "\"\"\"2. Write a program to fill the screen horizontally and vertically with your name. [Hint: add the\n",
    "option end='' into the print function to fill the screen horizontally.]\"\"\"\n",
    "\n",
    "for i in range(20):\n",
    "    print(\"Richard Sackey\", end=\"--\")\n",
    "    print(\"Richard Sackey\", end=\"--\")\n",
    "    print(\"Richard Sackey\", end=\"--\")\n",
    "    print(\"Richard Sackey\")"
   ]
  },
  {
   "cell_type": "code",
   "execution_count": 13,
   "metadata": {},
   "outputs": [
    {
     "name": "stdout",
     "output_type": "stream",
     "text": [
      "1---1\n",
      "2---4\n",
      "3---9\n",
      "4---16\n",
      "5---25\n",
      "6---36\n",
      "7---49\n",
      "8---64\n",
      "9---81\n",
      "10---100\n",
      "11---121\n",
      "12---144\n",
      "13---169\n",
      "14---196\n",
      "15---225\n",
      "16---256\n",
      "17---289\n",
      "18---324\n",
      "19---361\n",
      "20---400\n"
     ]
    }
   ],
   "source": [
    "for i in range(1,21):\n",
    "    print (i, end=\"---\")\n",
    "    print(i**2)"
   ]
  },
  {
   "cell_type": "code",
   "execution_count": 14,
   "metadata": {},
   "outputs": [
    {
     "name": "stdout",
     "output_type": "stream",
     "text": [
      "8,11,14,17,20,23,26,29,32,35,38,41,44,47,50,53,56,59,62,65,68,71,74,77,80,83,86,89,"
     ]
    }
   ],
   "source": [
    "for i in range(8,90,3):\n",
    "    print(i,end = \",\")"
   ]
  },
  {
   "cell_type": "code",
   "execution_count": 15,
   "metadata": {},
   "outputs": [
    {
     "name": "stdout",
     "output_type": "stream",
     "text": [
      "100,98,96,94,92,90,88,86,84,82,80,78,76,74,72,70,68,66,64,62,60,58,56,54,52,50,48,46,44,42,40,38,36,34,32,30,28,26,24,22,20,18,16,14,12,10,8,6,4,2,"
     ]
    }
   ],
   "source": [
    "for i in range(100,1,-2):\n",
    "    print(i, end=\",\")"
   ]
  },
  {
   "cell_type": "code",
   "execution_count": 16,
   "metadata": {},
   "outputs": [
    {
     "name": "stdout",
     "output_type": "stream",
     "text": [
      "AAAAAAAAAABBBBBBBCDCDCDCDEFFFFFFG\n"
     ]
    }
   ],
   "source": [
    "for i in range(1,11):\n",
    "    print(\"A\", end=\"\")\n",
    "for i in range(1,8):\n",
    "    print(\"B\", end=\"\")\n",
    "for i in range(1,5):\n",
    "    print(\"CD\",end=\"\")\n",
    "for i in range(1,2):\n",
    "    print(\"EFFFFFFG\")"
   ]
  },
  {
   "cell_type": "code",
   "execution_count": 17,
   "metadata": {},
   "outputs": [
    {
     "name": "stdout",
     "output_type": "stream",
     "text": [
      "4\n",
      "4\n",
      "4\n",
      "4\n",
      "4\n"
     ]
    }
   ],
   "source": [
    "x = input('Please enter your name')\n",
    "y = eval(input(\"How many times do you want to print your name\"))\n",
    "\n",
    "for i in range(y):\n",
    "    print(x)"
   ]
  },
  {
   "cell_type": "code",
   "execution_count": 18,
   "metadata": {},
   "outputs": [
    {
     "name": "stdout",
     "output_type": "stream",
     "text": [
      "1,1,3,5,7,9,11,"
     ]
    }
   ],
   "source": [
    "\"\"\" 9. The Fibonacci numbers are the sequence below, where the first two numbers are 1, and each\n",
    "    number thereafter is the sum of the two preceding numbers. Write a program that asks the\n",
    "    user how many Fibonacci numbers to print and then prints that many.\n",
    "                  1, 1, 2, 3, 5, 8, 13, 21, 34, 55, 89 . . . \"\"\"\n",
    "\n",
    "x = eval(input(\"How many fibunacci numbers do you want to print\"))\n",
    "for i in range(x+1):\n",
    "    if i==1:     #if i==1 or i==2:  \n",
    "        print(1, end=\",\")\n",
    "    if i==2:\n",
    "        print(1, end=\",\")\n",
    "    if i>2:\n",
    "        print(i-1 + i-2, end=\",\") "
   ]
  },
  {
   "cell_type": "code",
   "execution_count": 19,
   "metadata": {},
   "outputs": [
    {
     "data": {
      "text/plain": [
       "['__doc__',\n",
       " '__loader__',\n",
       " '__name__',\n",
       " '__package__',\n",
       " '__spec__',\n",
       " 'acos',\n",
       " 'acosh',\n",
       " 'asin',\n",
       " 'asinh',\n",
       " 'atan',\n",
       " 'atan2',\n",
       " 'atanh',\n",
       " 'ceil',\n",
       " 'comb',\n",
       " 'copysign',\n",
       " 'cos',\n",
       " 'cosh',\n",
       " 'degrees',\n",
       " 'dist',\n",
       " 'e',\n",
       " 'erf',\n",
       " 'erfc',\n",
       " 'exp',\n",
       " 'expm1',\n",
       " 'fabs',\n",
       " 'factorial',\n",
       " 'floor',\n",
       " 'fmod',\n",
       " 'frexp',\n",
       " 'fsum',\n",
       " 'gamma',\n",
       " 'gcd',\n",
       " 'hypot',\n",
       " 'inf',\n",
       " 'isclose',\n",
       " 'isfinite',\n",
       " 'isinf',\n",
       " 'isnan',\n",
       " 'isqrt',\n",
       " 'lcm',\n",
       " 'ldexp',\n",
       " 'lgamma',\n",
       " 'log',\n",
       " 'log10',\n",
       " 'log1p',\n",
       " 'log2',\n",
       " 'modf',\n",
       " 'nan',\n",
       " 'nextafter',\n",
       " 'perm',\n",
       " 'pi',\n",
       " 'pow',\n",
       " 'prod',\n",
       " 'radians',\n",
       " 'remainder',\n",
       " 'sin',\n",
       " 'sinh',\n",
       " 'sqrt',\n",
       " 'tan',\n",
       " 'tanh',\n",
       " 'tau',\n",
       " 'trunc',\n",
       " 'ulp']"
      ]
     },
     "execution_count": 19,
     "metadata": {},
     "output_type": "execute_result"
    }
   ],
   "source": [
    "import math\n",
    "dir(math)"
   ]
  },
  {
   "cell_type": "markdown",
   "metadata": {},
   "source": [
    "# Chapter 3\n",
    "## 3.8 Exercises\n",
    "\n"
   ]
  },
  {
   "cell_type": "code",
   "execution_count": 20,
   "metadata": {},
   "outputs": [
    {
     "name": "stdout",
     "output_type": "stream",
     "text": [
      "4, 4, 5, 4, 4, 4, 4, 5, 5, 5, 5, 5, 4, 4, 4, 4, 5, 4, 4, 4, 5, 4, 4, 4, 4, 4, 4, 5, 5, 4, 4, 4, 4, 4, 4, 4, 4, 5, 4, 5, 4, 5, 4, 4, 4, 5, 5, 4, 5, 4, "
     ]
    }
   ],
   "source": [
    "# 1. Write a program that generates and prints 50 random integers, each between 3 and 6.\n",
    "\n",
    "from random import randint\n",
    "for i in range(1,51):\n",
    "    x = randint(4,5)\n",
    "    print(x, end=\", \")\n",
    "\n"
   ]
  },
  {
   "cell_type": "code",
   "execution_count": 21,
   "metadata": {},
   "outputs": [
    {
     "name": "stdout",
     "output_type": "stream",
     "text": [
      "2 4 16\n"
     ]
    }
   ],
   "source": [
    "# 2. Write a program that generates a random number, x, between 1 and 50, a random number y between 2 and 5, and computes x^y.\n",
    "\n",
    "from random import randint\n",
    "x = randint(2,49)\n",
    "y = randint(3,4) \n",
    "z = x**y\n",
    "print(x,y,z)\n"
   ]
  },
  {
   "cell_type": "code",
   "execution_count": 22,
   "metadata": {},
   "outputs": [
    {
     "name": "stdout",
     "output_type": "stream",
     "text": [
      "ExcellentExcellentExcellentExcellentExcellentExcellent\n",
      "My name is Excellent\n",
      "My name is Excellent\n"
     ]
    }
   ],
   "source": [
    "# 3. Write a program that generates a random number between 1 and 10 and prints your name that many times.\n",
    "\n",
    "from random import randint\n",
    "x = randint(2,10)\n",
    "y = \"Excellent\"\n",
    "z = print(y*x)\n",
    "\n",
    "# Alternative\n",
    "x = randint(2,10)\n",
    "for i in range(2,x+1):   \n",
    "    print(\"My name is Excellent\")\n",
    "\n"
   ]
  },
  {
   "cell_type": "code",
   "execution_count": 23,
   "metadata": {},
   "outputs": [
    {
     "ename": "NameError",
     "evalue": "name 'random' is not defined",
     "output_type": "error",
     "traceback": [
      "\u001b[1;31m---------------------------------------------------------------------------\u001b[0m",
      "\u001b[1;31mNameError\u001b[0m                                 Traceback (most recent call last)",
      "Cell \u001b[1;32mIn [23], line 3\u001b[0m\n\u001b[0;32m      1\u001b[0m \u001b[38;5;66;03m# 4. Write a program that generates a random number between 1 and 10 and prints your name that many times.\u001b[39;00m\n\u001b[0;32m      2\u001b[0m \u001b[38;5;28;01mfrom\u001b[39;00m \u001b[38;5;21;01mrandom\u001b[39;00m \u001b[38;5;28;01mimport\u001b[39;00m uniform\n\u001b[1;32m----> 3\u001b[0m \u001b[38;5;28mprint\u001b[39m(\u001b[38;5;28mround\u001b[39m(\u001b[43mrandom\u001b[49m\u001b[38;5;241m.\u001b[39muniform(\u001b[38;5;241m1\u001b[39m,\u001b[38;5;241m10\u001b[39m), \u001b[38;5;241m2\u001b[39m))\n",
      "\u001b[1;31mNameError\u001b[0m: name 'random' is not defined"
     ]
    }
   ],
   "source": [
    "# 4. Write a program that generates a random number between 1 and 10 and prints your name that many times.\n",
    "from random import uniform\n",
    "print(round(random.uniform(1,10), 2))"
   ]
  },
  {
   "cell_type": "code",
   "execution_count": null,
   "metadata": {},
   "outputs": [
    {
     "name": "stdout",
     "output_type": "stream",
     "text": [
      "Help on built-in function sin in module math:\n",
      "\n",
      "sin(x, /)\n",
      "    Return the sine of x (measured in radians).\n",
      "\n"
     ]
    }
   ],
   "source": [
    "import math\n",
    "help(math.sin)"
   ]
  },
  {
   "cell_type": "code",
   "execution_count": null,
   "metadata": {},
   "outputs": [
    {
     "name": "stdout",
     "output_type": "stream",
     "text": [
      "<built-in method random of Random object at 0x0000019FE1AE6880>\n"
     ]
    }
   ],
   "source": [
    "from random import random\n",
    "x = random\n",
    "print(x)"
   ]
  },
  {
   "cell_type": "code",
   "execution_count": null,
   "metadata": {},
   "outputs": [
    {
     "name": "stdout",
     "output_type": "stream",
     "text": [
      "Help on method uniform in module random:\n",
      "\n",
      "uniform(a, b) method of random.Random instance\n",
      "    Get a random number in the range [a, b) or [a, b] depending on rounding.\n",
      "\n"
     ]
    }
   ],
   "source": [
    "import random\n"
   ]
  },
  {
   "cell_type": "markdown",
   "metadata": {},
   "source": [
    "# Chapter 4\n",
    "## 4.5 Exercises"
   ]
  },
  {
   "cell_type": "code",
   "execution_count": null,
   "metadata": {},
   "outputs": [
    {
     "name": "stdout",
     "output_type": "stream",
     "text": [
      "The results is 1.0\n"
     ]
    }
   ],
   "source": [
    "''' Write a program that asks the user to enter a length in centimeters. If the user enters a negative\n",
    " length, the program should tell the user that the entry is invalid. Otherwise, the program\n",
    " should convert the length to inches and print out the result. There are 2.54 centimeters in an\n",
    " inch.'''\n",
    "\n",
    "len_cm = eval(input(\"Please enter a length:\"))\n",
    "if len_cm < 0:\n",
    "   print(\"The entry is invalid\")\n",
    "else:\n",
    "   print(f'The results is {len_cm/2.54}')"
   ]
  },
  {
   "cell_type": "code",
   "execution_count": null,
   "metadata": {},
   "outputs": [],
   "source": []
  }
 ],
 "metadata": {
  "kernelspec": {
   "display_name": "notebook",
   "language": "python",
   "name": "python3"
  },
  "language_info": {
   "codemirror_mode": {
    "name": "ipython",
    "version": 3
   },
   "file_extension": ".py",
   "mimetype": "text/x-python",
   "name": "python",
   "nbconvert_exporter": "python",
   "pygments_lexer": "ipython3",
   "version": "3.10.8"
  },
  "orig_nbformat": 4
 },
 "nbformat": 4,
 "nbformat_minor": 2
}
