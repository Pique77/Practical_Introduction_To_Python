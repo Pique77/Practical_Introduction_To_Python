{
 "cells": [
  {
   "cell_type": "markdown",
   "metadata": {},
   "source": [
    "# Chapter 1\n",
    "## Exercise 1.8"
   ]
  },
  {
   "cell_type": "code",
   "execution_count": 1,
   "metadata": {},
   "outputs": [
    {
     "name": "stdout",
     "output_type": "stream",
     "text": [
      "********************\n",
      "********************\n",
      "********************\n",
      "********************\n"
     ]
    }
   ],
   "source": [
    "print(\"********************\\n********************\\n********************\\n********************\")"
   ]
  },
  {
   "cell_type": "code",
   "execution_count": 2,
   "metadata": {},
   "outputs": [
    {
     "name": "stdout",
     "output_type": "stream",
     "text": [
      "*********************\n",
      "*                   *\n",
      "*                   *\n",
      "*********************\n"
     ]
    }
   ],
   "source": [
    "print(\"*********************\\n*                   *\\n*                   *\\n*********************\")"
   ]
  },
  {
   "cell_type": "code",
   "execution_count": 3,
   "metadata": {},
   "outputs": [
    {
     "name": "stdout",
     "output_type": "stream",
     "text": [
      "*\n",
      "**\n",
      "***\n",
      "****\n"
     ]
    }
   ],
   "source": [
    "print(\"*\\n**\\n***\\n****\")"
   ]
  },
  {
   "cell_type": "code",
   "execution_count": 4,
   "metadata": {},
   "outputs": [
    {
     "name": "stdout",
     "output_type": "stream",
     "text": [
      "4.382621951219512\n"
     ]
    }
   ],
   "source": [
    "print((512-282)/(47.48+5))"
   ]
  },
  {
   "cell_type": "code",
   "execution_count": 5,
   "metadata": {},
   "outputs": [
    {
     "name": "stdout",
     "output_type": "stream",
     "text": [
      "The square of x is 9.\n",
      "The square of 3 is 9.\n"
     ]
    }
   ],
   "source": [
    "# <eval> is used because the input will be a number and not a text\n",
    "x = eval(input('Enter a number:'))\n",
    "print('The square of x is', ' ', x**2, '.', sep ='' )\n",
    "\n",
    "# Another alternative which will print the value of x\n",
    "x\n",
    "print(f'The square of {x} is',' ', x**2, '.', sep ='')"
   ]
  },
  {
   "cell_type": "code",
   "execution_count": 6,
   "metadata": {},
   "outputs": [
    {
     "name": "stdout",
     "output_type": "stream",
     "text": [
      "name      game      boy\n"
     ]
    }
   ],
   "source": [
    "print('name','game', 'boy', sep = '      ')"
   ]
  },
  {
   "cell_type": "code",
   "execution_count": 7,
   "metadata": {},
   "outputs": [
    {
     "name": "stdout",
     "output_type": "stream",
     "text": [
      "4---8---12---16---20\n"
     ]
    }
   ],
   "source": [
    "y = eval(input('Enter a number:'))\n",
    "print(y, end='---' )\n",
    "print(2*y, end='---' )\n",
    "print(3*y, end='---' )\n",
    "print(4*y, end='---' )\n",
    "print(5*y)"
   ]
  },
  {
   "cell_type": "code",
   "execution_count": 8,
   "metadata": {},
   "outputs": [
    {
     "name": "stdout",
     "output_type": "stream",
     "text": [
      "Your weight in pounds is 880\n"
     ]
    }
   ],
   "source": [
    "w = eval(input('Enter your weight in kilograms:'))\n",
    "print('Your weight in pounds is', w*22, sep = ' ')"
   ]
  },
  {
   "cell_type": "code",
   "execution_count": 24,
   "metadata": {},
   "outputs": [
    {
     "name": "stdout",
     "output_type": "stream",
     "text": [
      "Total = 17\n",
      "Average = 5.666666666666667\n"
     ]
    }
   ],
   "source": [
    "a = eval(input('Enter the first number:'))\n",
    "b = eval(input('Enter the second number:'))\n",
    "c = eval(input('Enter the third number:'))\n",
    "total = a + b + c\n",
    "average = total / 3\n",
    "print('Total =',\" \", total, sep='')\n",
    "print('Average =', average)"
   ]
  },
  {
   "cell_type": "code",
   "execution_count": 26,
   "metadata": {},
   "outputs": [
    {
     "name": "stdout",
     "output_type": "stream",
     "text": [
      "tip = 6\n",
      "total tip = 12\n"
     ]
    }
   ],
   "source": [
    "tip = eval(input('Please enter the price of your meal'))\n",
    "tip_perc = eval(input('Please enter the percent tip:'))\n",
    "print('tip =',tip, sep =' ' )\n",
    "print('total tip =',tip + tip_perc)\n"
   ]
  },
  {
   "cell_type": "markdown",
   "metadata": {},
   "source": [
    "# Chapter 2\n",
    "## Exercise 2.5"
   ]
  },
  {
   "cell_type": "code",
   "execution_count": 11,
   "metadata": {},
   "outputs": [
    {
     "name": "stdout",
     "output_type": "stream",
     "text": [
      "Richard Sackey\n",
      "Richard Sackey\n",
      "Richard Sackey\n",
      "Richard Sackey\n",
      "Richard Sackey\n",
      "Richard Sackey\n",
      "Richard Sackey\n",
      "Richard Sackey\n",
      "Richard Sackey\n",
      "Richard Sackey\n",
      "Richard Sackey\n",
      "Richard Sackey\n",
      "Richard Sackey\n",
      "Richard Sackey\n",
      "Richard Sackey\n",
      "Richard Sackey\n",
      "Richard Sackey\n",
      "Richard Sackey\n",
      "Richard Sackey\n",
      "Richard Sackey\n",
      "Richard Sackey\n",
      "Richard Sackey\n",
      "Richard Sackey\n",
      "Richard Sackey\n",
      "Richard Sackey\n",
      "Richard Sackey\n",
      "Richard Sackey\n",
      "Richard Sackey\n",
      "Richard Sackey\n",
      "Richard Sackey\n",
      "Richard Sackey\n",
      "Richard Sackey\n",
      "Richard Sackey\n",
      "Richard Sackey\n",
      "Richard Sackey\n",
      "Richard Sackey\n",
      "Richard Sackey\n",
      "Richard Sackey\n",
      "Richard Sackey\n",
      "Richard Sackey\n",
      "Richard Sackey\n",
      "Richard Sackey\n",
      "Richard Sackey\n",
      "Richard Sackey\n",
      "Richard Sackey\n",
      "Richard Sackey\n",
      "Richard Sackey\n",
      "Richard Sackey\n",
      "Richard Sackey\n",
      "Richard Sackey\n",
      "Richard Sackey\n",
      "Richard Sackey\n",
      "Richard Sackey\n",
      "Richard Sackey\n",
      "Richard Sackey\n",
      "Richard Sackey\n",
      "Richard Sackey\n",
      "Richard Sackey\n",
      "Richard Sackey\n",
      "Richard Sackey\n",
      "Richard Sackey\n",
      "Richard Sackey\n",
      "Richard Sackey\n",
      "Richard Sackey\n",
      "Richard Sackey\n",
      "Richard Sackey\n",
      "Richard Sackey\n",
      "Richard Sackey\n",
      "Richard Sackey\n",
      "Richard Sackey\n",
      "Richard Sackey\n",
      "Richard Sackey\n",
      "Richard Sackey\n",
      "Richard Sackey\n",
      "Richard Sackey\n",
      "Richard Sackey\n",
      "Richard Sackey\n",
      "Richard Sackey\n",
      "Richard Sackey\n",
      "Richard Sackey\n",
      "Richard Sackey\n",
      "Richard Sackey\n",
      "Richard Sackey\n",
      "Richard Sackey\n",
      "Richard Sackey\n",
      "Richard Sackey\n",
      "Richard Sackey\n",
      "Richard Sackey\n",
      "Richard Sackey\n",
      "Richard Sackey\n",
      "Richard Sackey\n",
      "Richard Sackey\n",
      "Richard Sackey\n",
      "Richard Sackey\n",
      "Richard Sackey\n",
      "Richard Sackey\n",
      "Richard Sackey\n",
      "Richard Sackey\n",
      "Richard Sackey\n",
      "Richard Sackey\n",
      " \n",
      "Richard Sackey---Richard Sackey---Richard Sackey---Richard Sackey---Richard Sackey---Richard Sackey---Richard Sackey---Richard Sackey---Richard Sackey---Richard Sackey---Richard Sackey---Richard Sackey---Richard Sackey---Richard Sackey---Richard Sackey---Richard Sackey---Richard Sackey---Richard Sackey---Richard Sackey---Richard Sackey---Richard Sackey---Richard Sackey---Richard Sackey---Richard Sackey---Richard Sackey---Richard Sackey---Richard Sackey---Richard Sackey---Richard Sackey---Richard Sackey---Richard Sackey---Richard Sackey---Richard Sackey---Richard Sackey---Richard Sackey---Richard Sackey---Richard Sackey---Richard Sackey---Richard Sackey---Richard Sackey---Richard Sackey---Richard Sackey---Richard Sackey---Richard Sackey---Richard Sackey---Richard Sackey---Richard Sackey---Richard Sackey---Richard Sackey---Richard Sackey---Richard Sackey---Richard Sackey---Richard Sackey---Richard Sackey---Richard Sackey---Richard Sackey---Richard Sackey---Richard Sackey---Richard Sackey---Richard Sackey---Richard Sackey---Richard Sackey---Richard Sackey---Richard Sackey---Richard Sackey---Richard Sackey---Richard Sackey---Richard Sackey---Richard Sackey---Richard Sackey---Richard Sackey---Richard Sackey---Richard Sackey---Richard Sackey---Richard Sackey---Richard Sackey---Richard Sackey---Richard Sackey---Richard Sackey---Richard Sackey---Richard Sackey---Richard Sackey---Richard Sackey---Richard Sackey---Richard Sackey---Richard Sackey---Richard Sackey---Richard Sackey---Richard Sackey---Richard Sackey---Richard Sackey---Richard Sackey---Richard Sackey---Richard Sackey---Richard Sackey---Richard Sackey---Richard Sackey---Richard Sackey---Richard Sackey---Richard Sackey---"
     ]
    }
   ],
   "source": [
    "# 1. Write a program that prints your name 100 times.\n",
    "\n",
    "\n",
    "for i in range(100):\n",
    "    print(\"Richard Sackey\")\n",
    "print(\" \")\n",
    "for i in range(100):\n",
    "    print(\"Richard Sackey\", end= \"---\")"
   ]
  },
  {
   "cell_type": "code",
   "execution_count": 12,
   "metadata": {},
   "outputs": [
    {
     "name": "stdout",
     "output_type": "stream",
     "text": [
      "Richard Sackey--Richard Sackey--Richard Sackey--Richard Sackey\n",
      "Richard Sackey--Richard Sackey--Richard Sackey--Richard Sackey\n",
      "Richard Sackey--Richard Sackey--Richard Sackey--Richard Sackey\n",
      "Richard Sackey--Richard Sackey--Richard Sackey--Richard Sackey\n",
      "Richard Sackey--Richard Sackey--Richard Sackey--Richard Sackey\n",
      "Richard Sackey--Richard Sackey--Richard Sackey--Richard Sackey\n",
      "Richard Sackey--Richard Sackey--Richard Sackey--Richard Sackey\n",
      "Richard Sackey--Richard Sackey--Richard Sackey--Richard Sackey\n",
      "Richard Sackey--Richard Sackey--Richard Sackey--Richard Sackey\n",
      "Richard Sackey--Richard Sackey--Richard Sackey--Richard Sackey\n",
      "Richard Sackey--Richard Sackey--Richard Sackey--Richard Sackey\n",
      "Richard Sackey--Richard Sackey--Richard Sackey--Richard Sackey\n",
      "Richard Sackey--Richard Sackey--Richard Sackey--Richard Sackey\n",
      "Richard Sackey--Richard Sackey--Richard Sackey--Richard Sackey\n",
      "Richard Sackey--Richard Sackey--Richard Sackey--Richard Sackey\n",
      "Richard Sackey--Richard Sackey--Richard Sackey--Richard Sackey\n",
      "Richard Sackey--Richard Sackey--Richard Sackey--Richard Sackey\n",
      "Richard Sackey--Richard Sackey--Richard Sackey--Richard Sackey\n",
      "Richard Sackey--Richard Sackey--Richard Sackey--Richard Sackey\n",
      "Richard Sackey--Richard Sackey--Richard Sackey--Richard Sackey\n"
     ]
    }
   ],
   "source": [
    "\"\"\"2. Write a program to fill the screen horizontally and vertically with your name. [Hint: add the\n",
    "option end='' into the print function to fill the screen horizontally.]\"\"\"\n",
    "\n",
    "for i in range(20):\n",
    "    print(\"Richard Sackey\", end=\"--\")\n",
    "    print(\"Richard Sackey\", end=\"--\")\n",
    "    print(\"Richard Sackey\", end=\"--\")\n",
    "    print(\"Richard Sackey\")"
   ]
  },
  {
   "cell_type": "code",
   "execution_count": 13,
   "metadata": {},
   "outputs": [
    {
     "name": "stdout",
     "output_type": "stream",
     "text": [
      "1---1\n",
      "2---4\n",
      "3---9\n",
      "4---16\n",
      "5---25\n",
      "6---36\n",
      "7---49\n",
      "8---64\n",
      "9---81\n",
      "10---100\n",
      "11---121\n",
      "12---144\n",
      "13---169\n",
      "14---196\n",
      "15---225\n",
      "16---256\n",
      "17---289\n",
      "18---324\n",
      "19---361\n",
      "20---400\n"
     ]
    }
   ],
   "source": [
    "for i in range(1,21):\n",
    "    print (i, end=\"---\")\n",
    "    print(i**2)"
   ]
  },
  {
   "cell_type": "code",
   "execution_count": 14,
   "metadata": {},
   "outputs": [
    {
     "name": "stdout",
     "output_type": "stream",
     "text": [
      "8,11,14,17,20,23,26,29,32,35,38,41,44,47,50,53,56,59,62,65,68,71,74,77,80,83,86,89,"
     ]
    }
   ],
   "source": [
    "for i in range(8,90,3):\n",
    "    print(i,end = \",\")"
   ]
  },
  {
   "cell_type": "code",
   "execution_count": 15,
   "metadata": {},
   "outputs": [
    {
     "name": "stdout",
     "output_type": "stream",
     "text": [
      "100,98,96,94,92,90,88,86,84,82,80,78,76,74,72,70,68,66,64,62,60,58,56,54,52,50,48,46,44,42,40,38,36,34,32,30,28,26,24,22,20,18,16,14,12,10,8,6,4,2,"
     ]
    }
   ],
   "source": [
    "for i in range(100,1,-2):\n",
    "    print(i, end=\",\")"
   ]
  },
  {
   "cell_type": "code",
   "execution_count": 16,
   "metadata": {},
   "outputs": [
    {
     "name": "stdout",
     "output_type": "stream",
     "text": [
      "AAAAAAAAAABBBBBBBCDCDCDCDEFFFFFFG\n"
     ]
    }
   ],
   "source": [
    "for i in range(1,11):\n",
    "    print(\"A\", end=\"\")\n",
    "for i in range(1,8):\n",
    "    print(\"B\", end=\"\")\n",
    "for i in range(1,5):\n",
    "    print(\"CD\",end=\"\")\n",
    "for i in range(1,2):\n",
    "    print(\"EFFFFFFG\")"
   ]
  },
  {
   "cell_type": "code",
   "execution_count": 17,
   "metadata": {},
   "outputs": [
    {
     "name": "stdout",
     "output_type": "stream",
     "text": [
      "4\n",
      "4\n",
      "4\n",
      "4\n",
      "4\n"
     ]
    }
   ],
   "source": [
    "x = input('Please enter your name')\n",
    "y = eval(input(\"How many times do you want to print your name\"))\n",
    "\n",
    "for i in range(y):\n",
    "    print(x)"
   ]
  },
  {
   "cell_type": "code",
   "execution_count": 3,
   "metadata": {},
   "outputs": [
    {
     "name": "stdout",
     "output_type": "stream",
     "text": [
      "1,1,2,3,5,8,13,21,34,55,89,144,233,377,610,987,1597,2584,4181,"
     ]
    }
   ],
   "source": [
    "\"\"\" 9. The Fibonacci numbers are the sequence below, where the first two numbers are 1, and each\n",
    "    number thereafter is the sum of the two preceding numbers. Write a program that asks the\n",
    "    user how many Fibonacci numbers to print and then prints that many.\n",
    "                  1, 1, 2, 3, 5, 8, 13, 21, 34, 55, 89 . . . \"\"\"\n",
    "a=[]\n",
    "x = eval(input(\"How many fibunacci numbers do you want to print\"))\n",
    "for i in range(x):\n",
    "    if i==0 or i==1:     #if i==1 or i==2:  \n",
    "        a.append(1)\n",
    "        print(a[i], end=\",\")\n",
    "    if i>1:\n",
    "        a.append(a[-2]+a[-1])\n",
    "        print(a[-1], end=\",\")\n",
    "    "
   ]
  },
  {
   "cell_type": "code",
   "execution_count": 10,
   "metadata": {},
   "outputs": [
    {
     "name": "stdout",
     "output_type": "stream",
     "text": [
      "**********\n",
      "**********\n",
      "**********\n",
      "**********\n"
     ]
    }
   ],
   "source": [
    "\"\"\"10. Use a for loop to print a box like the one below. Allow the user to specify how wide and how\n",
    "    high the box should be. [Hint: print('*'*10) prints ten asterisks.]\"\"\"\n",
    "\n",
    "width = eval(input(\"Please enter width: \"))\n",
    "height = eval(input(\"Please enter height: \"))\n",
    "for i in range(height):\n",
    "    print('*' * width, sep =\"\")"
   ]
  },
  {
   "cell_type": "code",
   "execution_count": 9,
   "metadata": {},
   "outputs": [
    {
     "name": "stdout",
     "output_type": "stream",
     "text": [
      "***************\n",
      "*             *\n",
      "*             *\n",
      "***************\n"
     ]
    }
   ],
   "source": [
    "\"\"\"11. Use a for loop to print a box like the one below. Allow the user to specify how wide and how\n",
    "high the box should be.\"\"\"\n",
    "\n",
    "width = eval(input(\"Please enter width\"))\n",
    "height = eval(input(\"Please enter height\"))\n",
    "for i in range(height):\n",
    "    if i==0 or i==(height-1): \n",
    "        print(\"*\"*width,sep=\"\" )\n",
    "    else:\n",
    "        print(\"*\",\" \"*(width-2), \"*\", sep=\"\")\n",
    "\n"
   ]
  },
  {
   "cell_type": "code",
   "execution_count": 13,
   "metadata": {},
   "outputs": [
    {
     "name": "stdout",
     "output_type": "stream",
     "text": [
      "\n",
      "*\n",
      "**\n",
      "***\n",
      "****\n",
      "*****\n",
      "******\n",
      "*******\n"
     ]
    }
   ],
   "source": [
    "\"\"\"12. Use a for loop to print a box like the one below. Allow the user to specify how wide and how\n",
    "high the box should be.\"\"\"\n",
    "\n",
    "height = eval(input(\"Please enter height:\"))\n",
    "for i in range(height):\n",
    "    print(\"*\"*i)             "
   ]
  },
  {
   "cell_type": "code",
   "execution_count": 17,
   "metadata": {},
   "outputs": [
    {
     "name": "stdout",
     "output_type": "stream",
     "text": [
      "*******\n",
      "******\n",
      "*****\n",
      "****\n",
      "***\n",
      "**\n",
      "*\n"
     ]
    }
   ],
   "source": [
    "\"\"\"13. Use a for loop to print an upside down triangle like the one below. Allow the user to specify\n",
    "how high the triangle should be.\"\"\"\n",
    "\n",
    "height = eval(input(\"Please enter the height: \"))\n",
    "for i in range(height):\n",
    "    print(\"*\" * (height - i))"
   ]
  },
  {
   "cell_type": "code",
   "execution_count": 1,
   "metadata": {},
   "outputs": [
    {
     "name": "stdout",
     "output_type": "stream",
     "text": [
      "    *\n",
      "   ***\n",
      "  *****\n",
      " *******\n",
      "  *****\n",
      "   ***\n",
      "    *\n"
     ]
    }
   ],
   "source": [
    "\"\"\"14. Use for loops to print a diamond like the one below. Allow the user to specify how high the\n",
    "diamond should be.\"\"\"\n",
    "\n",
    "height = eval(input(\"Enter an odd number for the height of the diamond: \"))\n",
    "counter = 0\n",
    "for i in range(height*2):\n",
    "    if i%2==0:\n",
    "        pass\n",
    "    if i%2==1 and i< height:\n",
    "        print(\" \"*int((height/2)-(i/2)),\"*\"*i)\n",
    "    if i%2==1 and i==(height):\n",
    "        print(\"\",\"*\"*(height))\n",
    "    if i%2==1 and i>height:\n",
    "        counter = counter + 1\n",
    "        print(\" \"*int((i/2)-(height/2)), \"*\"*(height-(counter*2)))\n"
   ]
  },
  {
   "cell_type": "code",
   "execution_count": 34,
   "metadata": {},
   "outputs": [
    {
     "name": "stdout",
     "output_type": "stream",
     "text": [
      "        *\n",
      "      *   *\n",
      "      *****\n",
      "     *     *\n",
      "    *       *\n",
      "   *         *\n",
      "  *           *\n"
     ]
    }
   ],
   "source": [
    "'''\n",
    "15. Write a program that prints a giant letter A like the one below. Allow the user to specify how\n",
    "large the letter should be.\n",
    "'''\n",
    "height = eval(input(\"Please enter the an odd the number as the height:\"))\n",
    "for i in range(height*2):\n",
    "    if i%2==0:\n",
    "        pass\n",
    "    if i%2==1 and i==1:\n",
    "        print(\" \"*int((((height*2)/2)-(i/2))+2),\"*\")\n",
    "    if i%2==1 and i==((height-1)):\n",
    "        print(\" \"*int((((height*2)/2)-(i/2))+2),\"*\"*i)\n",
    "    if i%2==1 and i!=1:\n",
    "        print(\" \"*int((((height*2)/2)-(i/2))+1),\"*\",\" \"*(i-2),\"*\")\n"
   ]
  },
  {
   "cell_type": "code",
   "execution_count": 19,
   "metadata": {},
   "outputs": [
    {
     "data": {
      "text/plain": [
       "['__doc__',\n",
       " '__loader__',\n",
       " '__name__',\n",
       " '__package__',\n",
       " '__spec__',\n",
       " 'acos',\n",
       " 'acosh',\n",
       " 'asin',\n",
       " 'asinh',\n",
       " 'atan',\n",
       " 'atan2',\n",
       " 'atanh',\n",
       " 'ceil',\n",
       " 'comb',\n",
       " 'copysign',\n",
       " 'cos',\n",
       " 'cosh',\n",
       " 'degrees',\n",
       " 'dist',\n",
       " 'e',\n",
       " 'erf',\n",
       " 'erfc',\n",
       " 'exp',\n",
       " 'expm1',\n",
       " 'fabs',\n",
       " 'factorial',\n",
       " 'floor',\n",
       " 'fmod',\n",
       " 'frexp',\n",
       " 'fsum',\n",
       " 'gamma',\n",
       " 'gcd',\n",
       " 'hypot',\n",
       " 'inf',\n",
       " 'isclose',\n",
       " 'isfinite',\n",
       " 'isinf',\n",
       " 'isnan',\n",
       " 'isqrt',\n",
       " 'lcm',\n",
       " 'ldexp',\n",
       " 'lgamma',\n",
       " 'log',\n",
       " 'log10',\n",
       " 'log1p',\n",
       " 'log2',\n",
       " 'modf',\n",
       " 'nan',\n",
       " 'nextafter',\n",
       " 'perm',\n",
       " 'pi',\n",
       " 'pow',\n",
       " 'prod',\n",
       " 'radians',\n",
       " 'remainder',\n",
       " 'sin',\n",
       " 'sinh',\n",
       " 'sqrt',\n",
       " 'tan',\n",
       " 'tanh',\n",
       " 'tau',\n",
       " 'trunc',\n",
       " 'ulp']"
      ]
     },
     "execution_count": 19,
     "metadata": {},
     "output_type": "execute_result"
    }
   ],
   "source": [
    "import math\n",
    "dir(math)"
   ]
  },
  {
   "cell_type": "markdown",
   "metadata": {},
   "source": [
    "# Chapter 3\n",
    "## 3.8 Exercises\n",
    "\n"
   ]
  },
  {
   "cell_type": "code",
   "execution_count": 20,
   "metadata": {},
   "outputs": [
    {
     "name": "stdout",
     "output_type": "stream",
     "text": [
      "4, 4, 5, 4, 4, 4, 4, 5, 5, 5, 5, 5, 4, 4, 4, 4, 5, 4, 4, 4, 5, 4, 4, 4, 4, 4, 4, 5, 5, 4, 4, 4, 4, 4, 4, 4, 4, 5, 4, 5, 4, 5, 4, 4, 4, 5, 5, 4, 5, 4, "
     ]
    }
   ],
   "source": [
    "# 1. Write a program that generates and prints 50 random integers, each between 3 and 6.\n",
    "\n",
    "from random import randint\n",
    "for i in range(1,51):\n",
    "    x = randint(4,5)\n",
    "    print(x, end=\", \")\n",
    "\n"
   ]
  },
  {
   "cell_type": "code",
   "execution_count": null,
   "metadata": {},
   "outputs": [],
   "source": []
  },
  {
   "cell_type": "code",
   "execution_count": 21,
   "metadata": {},
   "outputs": [
    {
     "name": "stdout",
     "output_type": "stream",
     "text": [
      "2 4 16\n"
     ]
    }
   ],
   "source": [
    "# 2. Write a program that generates a random number, x, between 1 and 50, a random number y between 2 and 5, and computes x^y.\n",
    "\n",
    "from random import randint\n",
    "x = randint(2,49)\n",
    "y = randint(3,4) \n",
    "z = x**y\n",
    "print(x,y,z)\n"
   ]
  },
  {
   "cell_type": "code",
   "execution_count": 22,
   "metadata": {},
   "outputs": [
    {
     "name": "stdout",
     "output_type": "stream",
     "text": [
      "ExcellentExcellentExcellentExcellentExcellentExcellent\n",
      "My name is Excellent\n",
      "My name is Excellent\n"
     ]
    }
   ],
   "source": [
    "# 3. Write a program that generates a random number between 1 and 10 and prints your name that many times.\n",
    "\n",
    "from random import randint\n",
    "x = randint(2,10)\n",
    "y = \"Excellent\"\n",
    "z = print(y*x)\n",
    "\n",
    "# Alternative\n",
    "x = randint(2,10)\n",
    "for i in range(2,x+1):   \n",
    "    print(\"My name is Excellent\")\n",
    "\n"
   ]
  },
  {
   "cell_type": "code",
   "execution_count": 35,
   "metadata": {},
   "outputs": [
    {
     "name": "stdout",
     "output_type": "stream",
     "text": [
      "5.64\n"
     ]
    }
   ],
   "source": [
    "# 4. Write a program that generates a random number between 1 and 10 and prints your name that many times.\n",
    "from random import uniform\n",
    "print(round(uniform(1,10), 2))"
   ]
  },
  {
   "cell_type": "code",
   "execution_count": 5,
   "metadata": {},
   "outputs": [
    {
     "name": "stdout",
     "output_type": "stream",
     "text": [
      "1,1,3,1,5,6,1,3,9,3,1,12,14,9,15,1,7,19,2,14,20,21,22,17,23,22,26,23,29,27,30,11,24,24,35,4,24,3,28,12,16,4,10,33,26,17,48,27,21,10,"
     ]
    }
   ],
   "source": [
    "# Write a program that generates 50 random numbers such that the first number is between 1 and 2, the second \n",
    "# is between 1 and 3, the third is between 1 and 4, . . . , and the last is between\n",
    "# 1 and 51.\n",
    "\n",
    "from random import randint\n",
    "for i in range (1,51):\n",
    "    x = randint(1,i+1)\n",
    "    print(x,end =\",\" )\n"
   ]
  },
  {
   "cell_type": "code",
   "execution_count": 7,
   "metadata": {},
   "outputs": [
    {
     "name": "stdout",
     "output_type": "stream",
     "text": [
      "0.07692307692307693\n"
     ]
    }
   ],
   "source": [
    "# 6. Write a program that asks the user to enter two numbers, x and y, and computes |x−y|/x+y .\n",
    "\n",
    "x = eval(input(\"Please enter a number: \"))\n",
    "y = eval(input(\"Please enter a number: \"))\n",
    "compute = abs(x-y)/ (x+y)\n",
    "print(compute)"
   ]
  },
  {
   "cell_type": "code",
   "execution_count": 10,
   "metadata": {},
   "outputs": [
    {
     "name": "stdout",
     "output_type": "stream",
     "text": [
      "110\n"
     ]
    }
   ],
   "source": [
    "# 7. Write a program that asks the user to enter an angle between −180◦ and 180◦. Using an\n",
    "# expression with the modulo operator, convert the angle to its equivalent between 0◦ and\n",
    "# 360◦.\n",
    "\n",
    "# Alternative 1\n",
    "angle = eval(input(\"Please enter an angular value between -180 and 180: \"))\n",
    "convert = angle + 180\n",
    "print(convert)\n",
    "\n",
    "\n",
    "# Alternative 2 (Obey the requirements of the quesition:Use the modulo operator)\n"
   ]
  },
  {
   "cell_type": "code",
   "execution_count": 2,
   "metadata": {},
   "outputs": [
    {
     "name": "stdout",
     "output_type": "stream",
     "text": [
      "60 minutes is equal to 1  minutes 0 seconds\n"
     ]
    }
   ],
   "source": [
    "# 8.Write a program that asks the user for a number of seconds and prints out how many minutes\n",
    "# and seconds that is. For instance, 200 seconds is 3 minutes and 20 seconds. [Hint: Use the //\n",
    "# operator to get minutes and the % operator to get seconds.]\n",
    "\n",
    "x = eval(input(\"Please enter the number: \"))\n",
    "y = (x//60)\n",
    "z= (x%2)\n",
    "print(f\"{x} minutes is equal to\" , y ,\" minutes\", z, \"seconds\")"
   ]
  },
  {
   "cell_type": "code",
   "execution_count": 4,
   "metadata": {},
   "outputs": [
    {
     "name": "stdout",
     "output_type": "stream",
     "text": [
      "Enter hour: 5\n",
      "How many hours ahead? 5\n",
      "New hour: 10 o'clock\n"
     ]
    }
   ],
   "source": [
    "#. Write a program that asks the user for an hour between 1 and 12 and for how many hours in\n",
    "# the future they want to go. Print out what the hour will be that many hours into the future.\n",
    "# An example is shown below.\n",
    "x = eval(input(\"Please enter any hour between 1 and 12: \"))\n",
    "print(\"Enter hour:\", x )\n",
    "y = eval(input(\"How many hours ahead?:\"))\n",
    "print(\"How many hours ahead?\",y)\n",
    "z = (x+y)%12\n",
    "print(\"New hour:\", z,\"o'clock\")\n"
   ]
  },
  {
   "cell_type": "code",
   "execution_count": 2,
   "metadata": {},
   "outputs": [
    {
     "name": "stdout",
     "output_type": "stream",
     "text": [
      "The power is:  8\n",
      "256\n",
      "The last digit for y is:  6\n",
      "The power is:  8\n",
      "256\n",
      "The last digit for y is:  56\n"
     ]
    }
   ],
   "source": [
    "'''\n",
    "10. (a) One way to find out the last digit of a number is to mod the number by 10. Write a\n",
    "program that asks the user to enter a power. Then find the last digit of 2 raised to that\n",
    "power.\n",
    "(b) One way to find out the last two digits of a number is to mod the number by 100. Write\n",
    "a program that asks the user to enter a power. Then find the last two digits of 2 raised to\n",
    "that power.\n",
    "(c) Write a program that asks the user to enter a power and how many digits they want.\n",
    "Find the last that many digits of 2 raised to the power the user entered.\n",
    "'''\n",
    "\n",
    "# Q 10 (a)\n",
    "x = eval(input(\"Please enter power: \"))\n",
    "print(\"The power is: \",x)\n",
    "y = 2**x\n",
    "print(y)\n",
    "last_digit = y % 10\n",
    "print(\"The last digit for y is: \", last_digit)\n",
    "\n",
    "\n",
    "# Q 10 (b)\n",
    "x = eval(input(\"Please enter power: \"))\n",
    "print(\"The power is: \",x)\n",
    "y = 2**x\n",
    "print(y)\n",
    "last_digit = y % 100\n",
    "print(\"The last digit for y is: \", last_digit)\n",
    "\n",
    "\n",
    "# 10(c) [Not so clear]"
   ]
  },
  {
   "cell_type": "code",
   "execution_count": 4,
   "metadata": {},
   "outputs": [
    {
     "name": "stdout",
     "output_type": "stream",
     "text": [
      " Your weight is 67 kg\n",
      "Your weight to the nearest tenth pound is: 147.7\n"
     ]
    }
   ],
   "source": [
    "'''\n",
    "Write a program that asks the user to enter a weight in kilograms. The program should\n",
    "convert it to pounds, printing the answer rounded to the nearest tenth of a pound.\n",
    "'''\n",
    "\n",
    "x = eval(input(\"Please enter your weight in kilograms: \"))\n",
    "print(f\" Your weight is {x} kg\")\n",
    "convert = (x * 2.20462)\n",
    "print(\"Your weight to the nearest tenth pound is:\", round(convert,1))"
   ]
  },
  {
   "cell_type": "code",
   "execution_count": null,
   "metadata": {},
   "outputs": [
    {
     "name": "stdout",
     "output_type": "stream",
     "text": [
      "Help on built-in function sin in module math:\n",
      "\n",
      "sin(x, /)\n",
      "    Return the sine of x (measured in radians).\n",
      "\n"
     ]
    }
   ],
   "source": [
    "import math\n",
    "help(math.sin)"
   ]
  },
  {
   "cell_type": "code",
   "execution_count": 36,
   "metadata": {},
   "outputs": [
    {
     "name": "stdout",
     "output_type": "stream",
     "text": [
      "<built-in method random of Random object at 0x0000022EBB98B970>\n"
     ]
    }
   ],
   "source": [
    "from random import random\n",
    "x = random\n",
    "print(x)"
   ]
  },
  {
   "cell_type": "code",
   "execution_count": 37,
   "metadata": {},
   "outputs": [],
   "source": [
    "import random\n"
   ]
  },
  {
   "cell_type": "markdown",
   "metadata": {},
   "source": [
    "# Chapter 4\n",
    "## 4.5 Exercises"
   ]
  },
  {
   "cell_type": "code",
   "execution_count": 38,
   "metadata": {},
   "outputs": [
    {
     "name": "stdout",
     "output_type": "stream",
     "text": [
      "The results is 3.149606299212598\n"
     ]
    }
   ],
   "source": [
    "''' Write a program that asks the user to enter a length in centimeters. If the user enters a negative\n",
    " length, the program should tell the user that the entry is invalid. Otherwise, the program\n",
    " should convert the length to inches and print out the result. There are 2.54 centimeters in an\n",
    " inch.'''\n",
    "\n",
    "len_cm = eval(input(\"Please enter a length:\"))\n",
    "if len_cm < 0:\n",
    "   print(\"The entry is invalid\")\n",
    "else:\n",
    "   print(f'The results is {len_cm/2.54}')"
   ]
  },
  {
   "cell_type": "code",
   "execution_count": 75,
   "metadata": {},
   "outputs": [
    {
     "ename": "TypeError",
     "evalue": "'str' object is not callable",
     "output_type": "error",
     "traceback": [
      "\u001b[1;31m---------------------------------------------------------------------------\u001b[0m",
      "\u001b[1;31mTypeError\u001b[0m                                 Traceback (most recent call last)",
      "Cell \u001b[1;32mIn [75], line 6\u001b[0m\n\u001b[0;32m      2\u001b[0m \u001b[38;5;124;03m\"\"\"for c in s:\u001b[39;00m\n\u001b[0;32m      3\u001b[0m \u001b[38;5;124;03m    print(c)\u001b[39;00m\n\u001b[0;32m      4\u001b[0m \u001b[38;5;124;03m\"\"\"\u001b[39;00m\n\u001b[0;32m      5\u001b[0m \u001b[38;5;28;01mfor\u001b[39;00m i \u001b[38;5;129;01min\u001b[39;00m \u001b[38;5;28mrange\u001b[39m(\u001b[38;5;28mlen\u001b[39m(s)):\n\u001b[1;32m----> 6\u001b[0m     \u001b[38;5;28;43mprint\u001b[39;49m\u001b[43m(\u001b[49m\u001b[43ms\u001b[49m\u001b[43m[\u001b[49m\u001b[43mi\u001b[49m\u001b[43m]\u001b[49m\u001b[43m)\u001b[49m\n",
      "\u001b[1;31mTypeError\u001b[0m: 'str' object is not callable"
     ]
    }
   ],
   "source": [
    "s = \"My name is earl\"\n",
    "\"\"\"for c in s:\n",
    "    print(c)\n",
    "\"\"\"\n",
    "for i in range(len(s)):\n",
    "    print(s[i])\n"
   ]
  },
  {
   "cell_type": "code",
   "execution_count": 74,
   "metadata": {},
   "outputs": [
    {
     "ename": "TypeError",
     "evalue": "'str' object is not callable",
     "output_type": "error",
     "traceback": [
      "\u001b[1;31m---------------------------------------------------------------------------\u001b[0m",
      "\u001b[1;31mTypeError\u001b[0m                                 Traceback (most recent call last)",
      "Cell \u001b[1;32mIn [74], line 1\u001b[0m\n\u001b[1;32m----> 1\u001b[0m \u001b[38;5;28;43mprint\u001b[39;49m\u001b[43m(\u001b[49m\u001b[38;5;124;43m'\u001b[39;49m\u001b[38;5;124;43mhi\u001b[39;49m\u001b[38;5;124;43m'\u001b[39;49m\u001b[43m)\u001b[49m\n",
      "\u001b[1;31mTypeError\u001b[0m: 'str' object is not callable"
     ]
    }
   ],
   "source": [
    "print('hi')"
   ]
  }
 ],
 "metadata": {
  "kernelspec": {
   "display_name": "notebook",
   "language": "python",
   "name": "python3"
  },
  "language_info": {
   "codemirror_mode": {
    "name": "ipython",
    "version": 3
   },
   "file_extension": ".py",
   "mimetype": "text/x-python",
   "name": "python",
   "nbconvert_exporter": "python",
   "pygments_lexer": "ipython3",
   "version": "3.10.8"
  },
  "orig_nbformat": 4
 },
 "nbformat": 4,
 "nbformat_minor": 2
}
